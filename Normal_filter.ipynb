{
 "cells": [
  {
   "cell_type": "code",
   "execution_count": 5,
   "metadata": {},
   "outputs": [],
   "source": [
    "import cv2\n",
    "import numpy as np\n",
    "import pandas as pd\n",
    "import matplotlib.pyplot as plt"
   ]
  },
  {
   "cell_type": "code",
   "execution_count": 6,
   "metadata": {},
   "outputs": [],
   "source": [
    "# 源图像\n",
    "img = cv2.imread('1.jpg')"
   ]
  },
  {
   "cell_type": "code",
   "execution_count": 43,
   "metadata": {},
   "outputs": [
    {
     "data": {
      "text/plain": [
       "-1"
      ]
     },
     "execution_count": 43,
     "metadata": {},
     "output_type": "execute_result"
    }
   ],
   "source": [
    "# 均值滤波\n",
    "def update_blur_size(x):\n",
    "    global img\n",
    "    x = cv2.getTrackbarPos('x','mean')\n",
    "    y = cv2.getTrackbarPos('y','mean')\n",
    "    if x==0:\n",
    "        x+=1\n",
    "    if y==0:\n",
    "        y+=1\n",
    "    if x%2 != 0:\n",
    "        x += 1\n",
    "    if y%2 != 0:\n",
    "        y += 1\n",
    "    img_mean = cv2.blur(img,(x,y))\n",
    "    cv2.imshow('mean',img_mean)\n",
    "\n",
    "cv2.namedWindow('mean')\n",
    "cv2.createTrackbar('x','mean',0,100,update_blur_size)\n",
    "cv2.createTrackbar('y','mean',0,100,update_blur_size)\n",
    "cv2.setTrackbarPos('x','mean',1)\n",
    "cv2.setTrackbarPos('y','mean',1)\n",
    "cv2.waitKey()"
   ]
  },
  {
   "cell_type": "code",
   "execution_count": 46,
   "metadata": {},
   "outputs": [
    {
     "data": {
      "text/plain": [
       "-1"
      ]
     },
     "execution_count": 46,
     "metadata": {},
     "output_type": "execute_result"
    }
   ],
   "source": [
    "# 中值滤波\n",
    "def update_median_size(x):\n",
    "    global img\n",
    "    ksize = cv2.getTrackbarPos('ksize','median')\n",
    "    if ksize==0:\n",
    "        ksize+=1\n",
    "    if ksize%2 == 0:\n",
    "        ksize += 1\n",
    "    img_median = cv2.medianBlur(img, ksize)\n",
    "    cv2.imshow('median',img_median)\n",
    "\n",
    "cv2.namedWindow('median')\n",
    "cv2.createTrackbar('ksize','median',0,100,update_median_size)\n",
    "cv2.setTrackbarPos('ksize','median',0)\n",
    "cv2.waitKey()"
   ]
  },
  {
   "cell_type": "code",
   "execution_count": 49,
   "metadata": {},
   "outputs": [
    {
     "data": {
      "text/plain": [
       "-1"
      ]
     },
     "execution_count": 49,
     "metadata": {},
     "output_type": "execute_result"
    }
   ],
   "source": [
    "# 高斯滤波\n",
    "def update_guassian_size(x):\n",
    "    global img\n",
    "    x = cv2.getTrackbarPos('x','gaussian')\n",
    "    y = cv2.getTrackbarPos('y','gaussian')\n",
    "    sigma = cv2.getTrackbarPos('sigma','gaussian')\n",
    "    if x==0:\n",
    "        x+=1\n",
    "    if y==0:\n",
    "        y+=1\n",
    "    if x%2 == 0:\n",
    "        x += 1\n",
    "    if y%2 == 0:\n",
    "        y += 1\n",
    "    if sigma == 0:\n",
    "        sigma += 1\n",
    "    img_gaussian = cv2.GaussianBlur(img,(x,y),sigma)\n",
    "    cv2.imshow('gaussian',img_gaussian)\n",
    "\n",
    "cv2.namedWindow('gaussian')\n",
    "cv2.createTrackbar('x','gaussian',0,100,update_guassian_size)\n",
    "cv2.createTrackbar('y','gaussian',0,100,update_guassian_size)\n",
    "cv2.createTrackbar('sigma','gaussian',0,100,update_guassian_size)\n",
    "cv2.setTrackbarPos('x','gaussian',0)\n",
    "cv2.setTrackbarPos('y','gaussian',0)\n",
    "cv2.setTrackbarPos('sigma','gaussian',0)\n",
    "cv2.waitKey()\n"
   ]
  },
  {
   "cell_type": "code",
   "execution_count": null,
   "metadata": {},
   "outputs": [],
   "source": []
  }
 ],
 "metadata": {
  "kernelspec": {
   "display_name": "Python 3",
   "language": "python",
   "name": "python3"
  },
  "language_info": {
   "codemirror_mode": {
    "name": "ipython",
    "version": 3
   },
   "file_extension": ".py",
   "mimetype": "text/x-python",
   "name": "python",
   "nbconvert_exporter": "python",
   "pygments_lexer": "ipython3",
   "version": "3.8.5"
  }
 },
 "nbformat": 4,
 "nbformat_minor": 4
}
