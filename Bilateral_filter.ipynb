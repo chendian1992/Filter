{
 "cells": [
  {
   "cell_type": "code",
   "execution_count": null,
   "metadata": {},
   "outputs": [],
   "source": [
    "import cv2\n",
    "import numpy as np\n",
    "import pandas as pd\n",
    "import matplotlib.pyplot as plt"
   ]
  },
  {
   "cell_type": "code",
   "execution_count": null,
   "metadata": {},
   "outputs": [],
   "source": [
    "img = cv2.imread('1.jpg')"
   ]
  },
  {
   "cell_type": "code",
   "execution_count": 10,
   "metadata": {},
   "outputs": [
    {
     "data": {
      "text/plain": [
       "-1"
      ]
     },
     "execution_count": 10,
     "metadata": {},
     "output_type": "execute_result"
    }
   ],
   "source": [
    "# 双边滤波\n",
    "img_bilater = cv2.bilateralFilter(img,7,75,75)\n",
    "\n",
    "# 高斯和双边\n",
    "cv2.imshow('src',img)\n",
    "cv2.imshow('bilateral',img_bilater)\n",
    "cv2.waitKey()"
   ]
  },
  {
   "cell_type": "code",
   "execution_count": 15,
   "metadata": {},
   "outputs": [
    {
     "data": {
      "text/plain": [
       "-1"
      ]
     },
     "execution_count": 15,
     "metadata": {},
     "output_type": "execute_result"
    }
   ],
   "source": [
    "\n",
    "def update_parameter(x):\n",
    "    global img\n",
    "    demension = cv2.getTrackbarPos('demension','bilater')\n",
    "    sigma_color = cv2.getTrackbarPos('sigma_color','bilater')\n",
    "    sigma_space = cv2.getTrackbarPos('sigma_space','bilater')\n",
    "    img_b = cv2.bilateralFilter(img,demension,sigma_color,sigma_space)\n",
    "    cv2.imshow('bilater',img_b)\n",
    "\n",
    "# 创建窗口\n",
    "cv2.namedWindow('bilater')\n",
    "# 设置滑动条目\n",
    "cv2.createTrackbar('demension','bilater',0,50,update_parameter)\n",
    "cv2.createTrackbar('sigma_color','bilater',0,200,update_parameter)\n",
    "cv2.createTrackbar('sigma_space','bilater',0,200,update_parameter)\n",
    "# 设置滑动条默认值\n",
    "cv2.setTrackbarPos('demension','bilater',1)\n",
    "cv2.setTrackbarPos('sigma_color','bilater',1)\n",
    "cv2.setTrackbarPos('sigma_space','bilater',1)\n",
    "\n",
    "cv2.waitKey()"
   ]
  },
  {
   "cell_type": "code",
   "execution_count": null,
   "metadata": {},
   "outputs": [],
   "source": []
  }
 ],
 "metadata": {
  "kernelspec": {
   "display_name": "Python 3",
   "language": "python",
   "name": "python3"
  },
  "language_info": {
   "codemirror_mode": {
    "name": "ipython",
    "version": 3
   },
   "file_extension": ".py",
   "mimetype": "text/x-python",
   "name": "python",
   "nbconvert_exporter": "python",
   "pygments_lexer": "ipython3",
   "version": "3.8.5"
  }
 },
 "nbformat": 4,
 "nbformat_minor": 4
}
